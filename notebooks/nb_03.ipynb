{
 "cells": [
  {
   "cell_type": "code",
   "execution_count": 2,
   "id": "c6bcce63-b632-4efc-9b4e-cfb7c9a87c86",
   "metadata": {},
   "outputs": [
    {
     "name": "stdout",
     "output_type": "stream",
     "text": [
      ":: loading settings :: url = jar:file:/opt/spark/jars/ivy-2.5.1.jar!/org/apache/ivy/core/settings/ivysettings.xml\n"
     ]
    },
    {
     "name": "stderr",
     "output_type": "stream",
     "text": [
      "Ivy Default Cache set to: /root/.ivy2/cache\n",
      "The jars for the packages stored in: /root/.ivy2/jars\n",
      "org.postgresql#postgresql added as a dependency\n",
      "org.apache.iceberg#iceberg-spark-runtime-3.5_2.12 added as a dependency\n",
      "org.projectnessie.nessie-integrations#nessie-spark-extensions-3.5_2.12 added as a dependency\n",
      "software.amazon.awssdk#bundle added as a dependency\n",
      "software.amazon.awssdk#url-connection-client added as a dependency\n",
      ":: resolving dependencies :: org.apache.spark#spark-submit-parent-dcf859ba-767d-4d02-ad44-26decc70e92d;1.0\n",
      "\tconfs: [default]\n",
      "\tfound org.postgresql#postgresql;42.7.3 in central\n",
      "\tfound org.checkerframework#checker-qual;3.42.0 in central\n",
      "\tfound org.apache.iceberg#iceberg-spark-runtime-3.5_2.12;1.5.0 in central\n",
      "\tfound org.projectnessie.nessie-integrations#nessie-spark-extensions-3.5_2.12;0.77.1 in central\n",
      "\tfound software.amazon.awssdk#bundle;2.24.8 in central\n",
      "\tfound software.amazon.awssdk#url-connection-client;2.24.8 in central\n",
      "\tfound software.amazon.awssdk#utils;2.24.8 in central\n",
      "\tfound org.reactivestreams#reactive-streams;1.0.4 in central\n",
      "\tfound software.amazon.awssdk#annotations;2.24.8 in central\n",
      "\tfound org.slf4j#slf4j-api;1.7.30 in central\n",
      "\tfound software.amazon.awssdk#http-client-spi;2.24.8 in central\n",
      "\tfound software.amazon.awssdk#metrics-spi;2.24.8 in central\n",
      ":: resolution report :: resolve 880ms :: artifacts dl 28ms\n",
      "\t:: modules in use:\n",
      "\torg.apache.iceberg#iceberg-spark-runtime-3.5_2.12;1.5.0 from central in [default]\n",
      "\torg.checkerframework#checker-qual;3.42.0 from central in [default]\n",
      "\torg.postgresql#postgresql;42.7.3 from central in [default]\n",
      "\torg.projectnessie.nessie-integrations#nessie-spark-extensions-3.5_2.12;0.77.1 from central in [default]\n",
      "\torg.reactivestreams#reactive-streams;1.0.4 from central in [default]\n",
      "\torg.slf4j#slf4j-api;1.7.30 from central in [default]\n",
      "\tsoftware.amazon.awssdk#annotations;2.24.8 from central in [default]\n",
      "\tsoftware.amazon.awssdk#bundle;2.24.8 from central in [default]\n",
      "\tsoftware.amazon.awssdk#http-client-spi;2.24.8 from central in [default]\n",
      "\tsoftware.amazon.awssdk#metrics-spi;2.24.8 from central in [default]\n",
      "\tsoftware.amazon.awssdk#url-connection-client;2.24.8 from central in [default]\n",
      "\tsoftware.amazon.awssdk#utils;2.24.8 from central in [default]\n",
      "\t---------------------------------------------------------------------\n",
      "\t|                  |            modules            ||   artifacts   |\n",
      "\t|       conf       | number| search|dwnlded|evicted|| number|dwnlded|\n",
      "\t---------------------------------------------------------------------\n",
      "\t|      default     |   12  |   0   |   0   |   0   ||   12  |   0   |\n",
      "\t---------------------------------------------------------------------\n",
      ":: retrieving :: org.apache.spark#spark-submit-parent-dcf859ba-767d-4d02-ad44-26decc70e92d\n",
      "\tconfs: [default]\n",
      "\t0 artifacts copied, 12 already retrieved (0kB/24ms)\n",
      "25/07/29 14:13:27 WARN NativeCodeLoader: Unable to load native-hadoop library for your platform... using builtin-java classes where applicable\n",
      "Setting default log level to \"WARN\".\n",
      "To adjust logging level use sc.setLogLevel(newLevel). For SparkR, use setLogLevel(newLevel).\n"
     ]
    },
    {
     "name": "stdout",
     "output_type": "stream",
     "text": [
      "Spark Session Started\n"
     ]
    }
   ],
   "source": [
    "import pyspark\n",
    "from pyspark.sql import SparkSession\n",
    "from pyspark.sql.types import StructType, StructField, IntegerType, StringType, DoubleType\n",
    "\n",
    "CATALOG_URI = \"http://nessie:19120/api/v1\"\n",
    "WAREHOUSE = \"s3://warehouse/\"\n",
    "STORAGE_URI = \"http://172.18.0.5:9000\"\n",
    "\n",
    "conf = (\n",
    "    pyspark.SparkConf()\n",
    "        .setAppName('sales_data_app')\n",
    "        .set('spark.jars.packages', 'org.postgresql:postgresql:42.7.3,org.apache.iceberg:iceberg-spark-runtime-3.5_2.12:1.5.0,org.projectnessie.nessie-integrations:nessie-spark-extensions-3.5_2.12:0.77.1,software.amazon.awssdk:bundle:2.24.8,software.amazon.awssdk:url-connection-client:2.24.8')\n",
    "        .set('spark.sql.extensions', 'org.apache.iceberg.spark.extensions.IcebergSparkSessionExtensions,org.projectnessie.spark.extensions.NessieSparkSessionExtensions')\n",
    "        .set('spark.sql.catalog.nessie', 'org.apache.iceberg.spark.SparkCatalog')\n",
    "        .set('spark.sql.catalog.nessie.uri', CATALOG_URI)\n",
    "        .set('spark.sql.catalog.nessie.ref', 'main')\n",
    "        .set('spark.sql.catalog.nessie.authentication.type', 'NONE')\n",
    "        .set('spark.sql.catalog.nessie.catalog-impl', 'org.apache.iceberg.nessie.NessieCatalog')\n",
    "        .set('spark.sql.catalog.nessie.s3.endpoint', STORAGE_URI)\n",
    "        .set('spark.sql.catalog.nessie.warehouse', WAREHOUSE)\n",
    "        .set('spark.sql.catalog.nessie.io-impl', 'org.apache.iceberg.aws.s3.S3FileIO')\n",
    ")\n",
    "\n",
    "spark = SparkSession.builder.config(conf=conf).getOrCreate()\n",
    "print(\"Spark Session Started\")"
   ]
  },
  {
   "cell_type": "code",
   "execution_count": 3,
   "id": "142f5d33-457c-4ca6-8bcd-03cc51df90a4",
   "metadata": {},
   "outputs": [
    {
     "name": "stderr",
     "output_type": "stream",
     "text": [
      "SLF4J: Failed to load class \"org.slf4j.impl.StaticLoggerBinder\".\n",
      "SLF4J: Defaulting to no-operation (NOP) logger implementation\n",
      "SLF4J: See http://www.slf4j.org/codes.html#StaticLoggerBinder for further details.\n",
      "25/07/29 14:13:41 WARN NessieUtil: The Iceberg property 'gc.enabled' and/or 'write.metadata.delete-after-commit.enabled' is enabled on table 'sales.sales_data_raw' in NessieCatalog. This will likely make data in other Nessie branches and tags and in earlier, historical Nessie commits inaccessible. The recommended setting for those properties is 'false'. Use the 'nessie-gc' tool for Nessie reference-aware garbage collection.\n"
     ]
    },
    {
     "data": {
      "text/plain": [
       "DataFrame[]"
      ]
     },
     "execution_count": 3,
     "metadata": {},
     "output_type": "execute_result"
    }
   ],
   "source": [
    "spark.sql(\"\"\"\n",
    "    ALTER TABLE nessie.sales.sales_data_raw \n",
    "    SET TBLPROPERTIES ('gc.enabled'='true')\n",
    "\"\"\")"
   ]
  },
  {
   "cell_type": "code",
   "execution_count": 4,
   "id": "30d68951-e840-4cbb-8729-835fddfc6574",
   "metadata": {},
   "outputs": [
    {
     "name": "stdout",
     "output_type": "stream",
     "text": [
      "+-------------------------+---------------------+\n",
      "|rewritten_manifests_count|added_manifests_count|\n",
      "+-------------------------+---------------------+\n",
      "|                        0|                    0|\n",
      "+-------------------------+---------------------+\n",
      "\n"
     ]
    }
   ],
   "source": [
    "spark.sql(\"\"\"\n",
    "    CALL nessie.system.rewrite_manifests(\n",
    "        table => 'nessie.sales.sales_data_raw'\n",
    "    )\n",
    "\"\"\").show()"
   ]
  },
  {
   "cell_type": "code",
   "execution_count": 7,
   "id": "64cb698c-f69b-4a47-9bd1-247dbb2b76f1",
   "metadata": {},
   "outputs": [
    {
     "name": "stderr",
     "output_type": "stream",
     "text": [
      "25/07/29 14:43:04 WARN NessieUtil: The Iceberg property 'gc.enabled' and/or 'write.metadata.delete-after-commit.enabled' is enabled on table 'sales.sales_data_raw' in NessieCatalog. This will likely make data in other Nessie branches and tags and in earlier, historical Nessie commits inaccessible. The recommended setting for those properties is 'false'. Use the 'nessie-gc' tool for Nessie reference-aware garbage collection.\n"
     ]
    },
    {
     "name": "stdout",
     "output_type": "stream",
     "text": [
      "+--------------------------+----------------------+---------------------+-----------------------+\n",
      "|rewritten_data_files_count|added_data_files_count|rewritten_bytes_count|failed_data_files_count|\n",
      "+--------------------------+----------------------+---------------------+-----------------------+\n",
      "|                         6|                     1|                10183|                      0|\n",
      "+--------------------------+----------------------+---------------------+-----------------------+\n",
      "\n"
     ]
    }
   ],
   "source": [
    "spark.sql(\"\"\"\n",
    "    CALL nessie.system.rewrite_data_files(\n",
    "        table => 'nessie.sales.sales_data_raw',\n",
    "        options => map(\n",
    "            'target-file-size-bytes', '5368709120',   -- 5GB par fichier\n",
    "            'rewrite-all', 'true',\n",
    "            'min-input-files', '1'\n",
    "        )\n",
    "    )\n",
    "\"\"\").show()"
   ]
  },
  {
   "cell_type": "code",
   "execution_count": 9,
   "id": "05ab758f-db29-4b72-8094-08d37bfd1b39",
   "metadata": {},
   "outputs": [
    {
     "name": "stderr",
     "output_type": "stream",
     "text": [
      "                                                                                \r"
     ]
    }
   ],
   "source": [
    "df = spark.table(\"nessie.sales.sales_data_raw\")\n",
    "df.coalesce(1).writeTo(\"nessie.sales.sales_data_raw_compacted\").using(\"iceberg\").create()\n",
    "#df.coalesce(1).writeTo(\"nessie.sales.sales_data_raw\").using(\"iceberg\").replace()"
   ]
  },
  {
   "cell_type": "code",
   "execution_count": null,
   "id": "7b033444-df22-4cd4-bfda-a1c527ea8727",
   "metadata": {},
   "outputs": [],
   "source": [
    "spark.sql(\"\"\"\n",
    "    CALL nessie.system.rewrite_data_files(\n",
    "        table => 'nessie.customers',\n",
    "        where => 'colonne_partition' = \"premium\"'\n",
    "    )\n",
    "\"\"\").show()"
   ]
  },
  {
   "cell_type": "code",
   "execution_count": 14,
   "id": "58e45819-1fd2-4c60-94dd-ae14a2c2bcbc",
   "metadata": {},
   "outputs": [
    {
     "name": "stdout",
     "output_type": "stream",
     "text": [
      "+---------+----------+-----------+-----------+-----------+-------------+\n",
      "|partition|file_count|avg_size_mb|min_size_mb|max_size_mb|total_size_mb|\n",
      "+---------+----------+-----------+-----------+-----------+-------------+\n",
      "|   {W, B}|         1|        0.0|        0.0|        0.0|          0.0|\n",
      "|   {S, J}|         1|        0.0|        0.0|        0.0|          0.0|\n",
      "|   {B, C}|         1|        0.0|        0.0|        0.0|          0.0|\n",
      "|   {B, F}|         1|        0.0|        0.0|        0.0|          0.0|\n",
      "|   {A, E}|         1|        0.0|        0.0|        0.0|          0.0|\n",
      "|   {Y, I}|         1|        0.0|        0.0|        0.0|          0.0|\n",
      "|   {C, G}|         1|        0.0|        0.0|        0.0|          0.0|\n",
      "|   {R, L}|         1|        0.0|        0.0|        0.0|          0.0|\n",
      "|   {M, K}|         1|        0.0|        0.0|        0.0|          0.0|\n",
      "|   {D, J}|         1|        0.0|        0.0|        0.0|          0.0|\n",
      "|   {J, A}|         1|        0.0|        0.0|        0.0|          0.0|\n",
      "|   {G, H}|         1|        0.0|        0.0|        0.0|          0.0|\n",
      "+---------+----------+-----------+-----------+-----------+-------------+\n",
      "\n"
     ]
    }
   ],
   "source": [
    "spark.sql(\"\"\"\n",
    "    SELECT \n",
    "        partition,\n",
    "        COUNT(*) as file_count,\n",
    "        ROUND(AVG(file_size_in_bytes)/1024/1024, 2) as avg_size_mb,\n",
    "        ROUND(MIN(file_size_in_bytes)/1024/1024, 2) as min_size_mb,\n",
    "        ROUND(MAX(file_size_in_bytes)/1024/1024, 2) as max_size_mb,\n",
    "        ROUND(SUM(file_size_in_bytes)/1024/1024, 2) as total_size_mb\n",
    "    FROM nessie.customers.data_files\n",
    "    GROUP BY partition\n",
    "    ORDER BY file_count DESC\n",
    "\"\"\").show()"
   ]
  },
  {
   "cell_type": "code",
   "execution_count": 16,
   "id": "90777bf8-1ee9-4c00-beb5-23c7770d77c0",
   "metadata": {},
   "outputs": [
    {
     "name": "stderr",
     "output_type": "stream",
     "text": [
      "[Stage 27:==========================================================(1 + 0) / 1]\r"
     ]
    },
    {
     "name": "stdout",
     "output_type": "stream",
     "text": [
      "+---------+-----------------+\n",
      "|partition|small_files_count|\n",
      "+---------+-----------------+\n",
      "|   {W, B}|                1|\n",
      "|   {S, J}|                1|\n",
      "|   {B, C}|                1|\n",
      "|   {B, F}|                1|\n",
      "|   {A, E}|                1|\n",
      "|   {Y, I}|                1|\n",
      "|   {C, G}|                1|\n",
      "|   {R, L}|                1|\n",
      "|   {M, K}|                1|\n",
      "|   {D, J}|                1|\n",
      "|   {J, A}|                1|\n",
      "|   {G, H}|                1|\n",
      "+---------+-----------------+\n",
      "\n"
     ]
    },
    {
     "name": "stderr",
     "output_type": "stream",
     "text": [
      "                                                                                \r"
     ]
    }
   ],
   "source": [
    "spark.sql(\"\"\"\n",
    "    SELECT \n",
    "        partition,\n",
    "        COUNT(*) as small_files_count\n",
    "    FROM nessie.customers.data_files\n",
    "    WHERE file_size_in_bytes < 64*1024*1024  -- Fichiers < 64MB\n",
    "    GROUP BY partition\n",
    "    ORDER BY small_files_count DESC\n",
    "\"\"\").show()"
   ]
  },
  {
   "cell_type": "code",
   "execution_count": null,
   "id": "ffef90c3-749b-45f1-b031-d9ed0b3e2a70",
   "metadata": {},
   "outputs": [],
   "source": [
    "# Table Copy-on-Write (par défaut)\n",
    "spark.sql(\"\"\"\n",
    "    CREATE TABLE nessie.cow_table (id INT, name STRING) \n",
    "    USING ICEBERG\n",
    "    TBLPROPERTIES ('write.delete.mode'='copy-on-write')\n",
    "\"\"\")\n",
    "\n",
    "# Table Merge-on-Read pour les updates fréquents\n",
    "spark.sql(\"\"\"\n",
    "    CREATE TABLE nessie.mor_table (id INT, name STRING) \n",
    "    USING ICEBERG\n",
    "    TBLPROPERTIES ('write.delete.mode'='merge-on-read')\n",
    "\"\"\")"
   ]
  },
  {
   "cell_type": "code",
   "execution_count": null,
   "id": "3a8084c4-0d08-4b9f-b36c-523391f0a71e",
   "metadata": {},
   "outputs": [],
   "source": []
  },
  {
   "cell_type": "code",
   "execution_count": null,
   "id": "a9a606a7-79bb-4ef6-babd-3e63265c0234",
   "metadata": {},
   "outputs": [],
   "source": []
  },
  {
   "cell_type": "code",
   "execution_count": null,
   "id": "e9f64eba-d641-4626-8eb7-a9748b81f0f9",
   "metadata": {},
   "outputs": [],
   "source": []
  },
  {
   "cell_type": "code",
   "execution_count": null,
   "id": "6e90fe0c-8ab0-4716-8be9-645280093cb8",
   "metadata": {},
   "outputs": [],
   "source": []
  },
  {
   "cell_type": "code",
   "execution_count": null,
   "id": "50b92c14-c51c-493b-afd5-542038bcb24a",
   "metadata": {},
   "outputs": [],
   "source": [
    "spark.stop()"
   ]
  },
  {
   "cell_type": "code",
   "execution_count": null,
   "id": "9557fa77-a5e6-4cbd-9972-61f144d21c33",
   "metadata": {},
   "outputs": [],
   "source": []
  }
 ],
 "metadata": {
  "kernelspec": {
   "display_name": "Python 3 (ipykernel)",
   "language": "python",
   "name": "python3"
  },
  "language_info": {
   "codemirror_mode": {
    "name": "ipython",
    "version": 3
   },
   "file_extension": ".py",
   "mimetype": "text/x-python",
   "name": "python",
   "nbconvert_exporter": "python",
   "pygments_lexer": "ipython3",
   "version": "3.10.12"
  }
 },
 "nbformat": 4,
 "nbformat_minor": 5
}
